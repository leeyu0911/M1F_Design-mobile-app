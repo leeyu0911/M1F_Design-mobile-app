{
 "cells": [
  {
   "cell_type": "code",
   "execution_count": 1,
   "metadata": {},
   "outputs": [],
   "source": [
    "# pip install beautifulsoup4\n",
    "# pip install requests\n",
    "\n",
    "import requests\n",
    "from bs4 import BeautifulSoup\n",
    "\n",
    "csie = 'http://www.csie.ncku.edu.tw'\n",
    "url = csie + '/ncku_csie/announce/news/1000'\n",
    "response = requests.get(url)\n",
    "response.encoding = 'utf8'\n",
    "\n",
    "soup = BeautifulSoup(response.text, \"html.parser\")\n",
    "web_anounces = soup.find_all(\"td\")\n",
    "# result = [soup.find_all(\"td\")[i] for i in range(len(soup.find_all(\"td\"))) if i%2 == 1]\n",
    "\n",
    "# xp_insertArticle(CID , articleURL, Title, URL, Content, Type, Status, Author, Since)\n"
   ]
  },
  {
   "cell_type": "code",
   "execution_count": 2,
   "metadata": {},
   "outputs": [],
   "source": [
    "Status = []  # 公告標籤\n",
    "Title = []  # 標題\n",
    "articleURL = []  # 網址\n",
    "\n",
    "for i in range(len(web_anounces)):\n",
    "#     if i%2 == 0:\n",
    "#         Since.append(web_anounces[i].text)\n",
    "    if i%2 == 1:\n",
    "        temp = web_anounces[i].text.split('\\xa0\\xa0')  #  ['一般', '[徵才公告]  AWS 2021校園招募']\n",
    "        Status.append(temp[0])\n",
    "        Title.append(temp[1])\n",
    "        articleURL.append(csie + web_anounces[i].find('a')['href'])"
   ]
  },
  {
   "cell_type": "code",
   "execution_count": 3,
   "metadata": {},
   "outputs": [
    {
     "data": {
      "text/plain": "(['一般', '一般', '一般', '一般', '一般', '重要', '一般', '重要', '重要', '重要'],\n ['[徵才資訊]勤益科大電子系徵聘專案教師',\n  '[獎學金通知]平安菁英教育基金會菁英獎學金',\n  '[本校通知]本校將進行光復校區部分區域公共水溝清淤，造成不便敬請見諒。',\n  '[徵才公告] IBM Taiwan 校園徵才資訊',\n  '[本校公告]光復及成功校區褐根病及靈芝根腐病防治公告',\n  '109學年度【洪肇奎博士獎助學金】得獎公告',\n  '[本校公告]本校勝利校區將進行基礎混凝土澆置工程',\n  '恭喜!!蔣榮先老師榮獲傑出資訊人才獎',\n  '恭喜!!梁勝富老師團隊榮獲國家新創獎',\n  '恭喜!!蔣榮先老師團隊榮獲國家新創獎'],\n ['http://www.csie.ncku.edu.tw/ncku_csie/announce/view/1569',\n  'http://www.csie.ncku.edu.tw/ncku_csie/announce/view/1568',\n  'http://www.csie.ncku.edu.tw/ncku_csie/announce/view/1566',\n  'http://www.csie.ncku.edu.tw/ncku_csie/announce/view/1565',\n  'http://www.csie.ncku.edu.tw/ncku_csie/announce/view/1564',\n  'http://www.csie.ncku.edu.tw/ncku_csie/announce/view/1230',\n  'http://www.csie.ncku.edu.tw/ncku_csie/announce/view/1563',\n  'http://www.csie.ncku.edu.tw/ncku_csie/announce/view/1561',\n  'http://www.csie.ncku.edu.tw/ncku_csie/announce/view/1560',\n  'http://www.csie.ncku.edu.tw/ncku_csie/announce/view/1559'])"
     },
     "execution_count": 3,
     "metadata": {},
     "output_type": "execute_result"
    }
   ],
   "source": [
    "Status ,Title ,articleURL "
   ]
  },
  {
   "cell_type": "code",
   "execution_count": 6,
   "metadata": {},
   "outputs": [
    {
     "name": "stdout",
     "output_type": "stream",
     "text": [
      "<class 'str'> unnamed (2).pdf2020-12-10下載.pdf\n"
     ]
    },
    {
     "ename": "IndexError",
     "evalue": "list index out of range",
     "output_type": "error",
     "traceback": [
      "\u001B[1;31m---------------------------------------------------------------------------\u001B[0m",
      "\u001B[1;31mIndexError\u001B[0m                                Traceback (most recent call last)",
      "\u001B[1;32m<ipython-input-6-07fbe7f19bf5>\u001B[0m in \u001B[0;36m<module>\u001B[1;34m\u001B[0m\n\u001B[0;32m     36\u001B[0m     \u001B[1;32mfor\u001B[0m \u001B[0mi\u001B[0m \u001B[1;32min\u001B[0m \u001B[0mrange\u001B[0m\u001B[1;33m(\u001B[0m\u001B[0mlen\u001B[0m\u001B[1;33m(\u001B[0m\u001B[0mFileName\u001B[0m\u001B[1;33m)\u001B[0m\u001B[1;33m)\u001B[0m\u001B[1;33m:\u001B[0m\u001B[1;33m\u001B[0m\u001B[1;33m\u001B[0m\u001B[0m\n\u001B[0;32m     37\u001B[0m         \u001B[0mprint\u001B[0m\u001B[1;33m(\u001B[0m\u001B[0mtype\u001B[0m\u001B[1;33m(\u001B[0m\u001B[0mFileName\u001B[0m\u001B[1;33m[\u001B[0m\u001B[0mi\u001B[0m\u001B[1;33m]\u001B[0m\u001B[1;33m)\u001B[0m\u001B[1;33m,\u001B[0m \u001B[0mFileName\u001B[0m\u001B[1;33m[\u001B[0m\u001B[0mi\u001B[0m\u001B[1;33m]\u001B[0m\u001B[1;33m)\u001B[0m\u001B[1;33m\u001B[0m\u001B[1;33m\u001B[0m\u001B[0m\n\u001B[1;32m---> 38\u001B[1;33m         \u001B[0mprint\u001B[0m\u001B[1;33m(\u001B[0m\u001B[0mtype\u001B[0m\u001B[1;33m(\u001B[0m\u001B[0mUploadDate\u001B[0m\u001B[1;33m[\u001B[0m\u001B[0mi\u001B[0m\u001B[1;33m]\u001B[0m\u001B[1;33m)\u001B[0m\u001B[1;33m,\u001B[0m \u001B[0mUploadDate\u001B[0m\u001B[1;33m[\u001B[0m\u001B[0mi\u001B[0m\u001B[1;33m]\u001B[0m\u001B[1;33m)\u001B[0m\u001B[1;33m\u001B[0m\u001B[1;33m\u001B[0m\u001B[0m\n\u001B[0m\u001B[0;32m     39\u001B[0m         \u001B[0mprint\u001B[0m\u001B[1;33m(\u001B[0m\u001B[0mtype\u001B[0m\u001B[1;33m(\u001B[0m\u001B[0mFileURL\u001B[0m\u001B[1;33m[\u001B[0m\u001B[0mi\u001B[0m\u001B[1;33m]\u001B[0m\u001B[1;33m)\u001B[0m\u001B[1;33m,\u001B[0m \u001B[0mFileURL\u001B[0m\u001B[1;33m[\u001B[0m\u001B[0mi\u001B[0m\u001B[1;33m]\u001B[0m\u001B[1;33m)\u001B[0m\u001B[1;33m\u001B[0m\u001B[1;33m\u001B[0m\u001B[0m\n\u001B[0;32m     40\u001B[0m         \u001B[0mprint\u001B[0m\u001B[1;33m(\u001B[0m\u001B[1;33m)\u001B[0m\u001B[1;33m\u001B[0m\u001B[1;33m\u001B[0m\u001B[0m\n",
      "\u001B[1;31mIndexError\u001B[0m: list index out of range"
     ]
    }
   ],
   "source": [
    "URL = []  # 資料連結\n",
    "Content = []  # 公告內容\n",
    "Type = []  # 公告類型\n",
    "Author = []  # 公告人員\n",
    "Since = []  # 時間\n",
    "\n",
    "FileName, UploadDate, FileURL = [], [], []\n",
    "\n",
    "# url = 'http://www.csie.ncku.edu.tw/ncku_csie/announce/view/1448'  # 內文表格 \n",
    "url = 'http://www.csie.ncku.edu.tw/ncku_csie/announce/view/1556'  # 有下載資料\n",
    "# url = 'http://www.csie.ncku.edu.tw/ncku_csie/announce/view/1468'  # 無下載資料\n",
    "# url  = 'http://www.csie.ncku.edu.tw/ncku_csie/announce/view/179'  # 一筆下載資料\n",
    "url = 'http://www.csie.ncku.edu.tw/ncku_csie/announce/view/1566'  # 下載連結特例\n",
    "response = requests.get(url)\n",
    "response.encoding = 'utf8'\n",
    "\n",
    "soup = BeautifulSoup(response.text, \"html.parser\")\n",
    "anounce_title = soup.find_all('th')\n",
    "\n",
    "URL.append(anounce_title[1].findNext().text if anounce_title[1].findNext().text == '無'\n",
    "           else anounce_title[1].findNext().find('a').get('href'))\n",
    "Content.append(anounce_title[2].findNext())\n",
    "Type.append(anounce_title[3].findNext().text)\n",
    "Author.append(anounce_title[5].findNext().text)\n",
    "Since.append(anounce_title[6].findNext().text)\n",
    "\n",
    "# cursor.execute('call xp_insertarticle(4, ?,?,?,?,?,?,?,?)',\n",
    "#                articleURL[index], Title[index], URL[index], Content[index],\n",
    "#                Type[index], Status[index], Author[index], Since[index])\n",
    "\n",
    "if soup.find_all('td')[-1].text != '未查詢到任何相關資料！！':\n",
    "    FileName = [i for i in soup.find_all('th')[-1].find_next().find_next().find_next().text.split('\\n') if i]\n",
    "    UploadDate = [s.text for i, s in\n",
    "                  enumerate(soup.find_all('th')[-1].find_next().find_next().find_next().find_all('td')) if\n",
    "                  i % 3 == 1]\n",
    "    FileURL = [csie + i.find_all('a')[0].get('href') for i in soup.find_all('td') if i.find_all('a') and\n",
    "               'http' not in i.find_all('a')[0].get('href')[:4]]\n",
    "    # xp_insertFile(AID, FileName, UploadDate, FileURL)\n",
    "    for i in range(len(FileName)):\n",
    "        print(type(FileName[i]), FileName[i])\n",
    "        print(type(UploadDate[i]), UploadDate[i])\n",
    "        print(type(FileURL[i]), FileURL[i])\n",
    "        print()"
   ]
  },
  {
   "cell_type": "code",
   "execution_count": 40,
   "metadata": {},
   "outputs": [
    {
     "data": {
      "text/plain": [
       "[<td>Amazon SP - Job leaflet CSA.pdf</td>,\n",
       " <td>2020-12-09</td>,\n",
       " <td><a href=\"/ncku_csie/Attachment/Download/1618\">下載.pdf</a></td>,\n",
       " <td>JD_CSA-General.docx</td>,\n",
       " <td>2020-12-09</td>,\n",
       " <td><a href=\"/ncku_csie/Attachment/Download/1619\">下載.docx</a></td>]"
      ]
     },
     "execution_count": 40,
     "metadata": {},
     "output_type": "execute_result"
    }
   ],
   "source": [
    "soup.find_all('th')[-1].find_next().find_next().find_next().find_all('td')"
   ]
  },
  {
   "cell_type": "code",
   "execution_count": 12,
   "metadata": {},
   "outputs": [
    {
     "name": "stdout",
     "output_type": "stream",
     "text": [
      "<class 'str'>\n",
      "<class 'str'>\n",
      "<class 'str'>\n",
      "<class 'str'>\n",
      "<class 'str'>\n",
      "<class 'str'>\n",
      "<class 'str'>\n",
      "<class 'str'>\n",
      "<class 'str'>\n",
      "<class 'str'>\n"
     ]
    }
   ],
   "source": [
    "for index, url in enumerate(articleURL):\n",
    "    response = requests.get(url)\n",
    "    response.encoding = 'utf8'\n",
    "\n",
    "    soup = BeautifulSoup(response.text, \"html.parser\")\n",
    "    anounce_title = soup.find_all('th')\n",
    "\n",
    "    URL.append(anounce_title[1].findNext().text if anounce_title[1].findNext().text == '無'\n",
    "               else anounce_title[1].findNext().find('a').get('href'))\n",
    "    Content.append(anounce_title[2].findNext())\n",
    "    Type.append(anounce_title[3].findNext().text)\n",
    "    Author.append(anounce_title[5].findNext().text)\n",
    "    Since.append(anounce_title[6].findNext().text)\n",
    "\n",
    "    # cursor.execute('call xp_insertarticle(4, ?,?,?,?,?,?,?,?)',\n",
    "    #                articleURL[index], Title[index], URL[index], Content[index],\n",
    "    #                Type[index], Status[index], Author[index], Since[index])\n",
    "\n",
    "    if soup.find_all('td')[-1].text != '未查詢到任何相關資料！！':\n",
    "        FileName = [i for i in soup.find_all('th')[-1].find_next().find_next().find_next().text.split('\\n') if i]\n",
    "        UploadDate = [s.text for i, s in enumerate(soup.find_all('th')[-1].find_next().find_next().find_next().find_all('td')) if i%3 ==1]\n",
    "        FileURL = [csie + i.find_all('a')[0].get('href') for i in soup.find_all('td') if i.find_all('a')]\n",
    "        # xp_insertFile(AID, FileName, UploadDate, FileURL)\n",
    "for i in URL:\n",
    "    print(type(i))"
   ]
  },
  {
   "cell_type": "code",
   "execution_count": 41,
   "metadata": {},
   "outputs": [
    {
     "data": {
      "text/plain": [
       "['2020-12-09', '2020-12-09']"
      ]
     },
     "execution_count": 41,
     "metadata": {},
     "output_type": "execute_result"
    }
   ],
   "source": [
    "[s.text for i, s in enumerate(soup.find_all('th')[-1].find_next().find_next().find_next().find_all('td')) if i%3 ==1]"
   ]
  },
  {
   "cell_type": "code",
   "execution_count": 25,
   "metadata": {},
   "outputs": [
    {
     "data": {
      "text/plain": [
       "[[<td>[本校公告] 【成功大學】人工智慧與資訊系統碩士在職專班學分班(隨班附讀)</td>],\n",
       " [<td><p>伴隨5G、AI與大數據等數位科技快速演進，台灣產業自然不能倖免於此變局的影響，必須思考如何因應產業生態新面貌。<br/>\n",
       "  唯今之計，若能懂得善用雲端、大數據、IoT、AI機器學習等技術，勢必可以在未來產業中如魚得水。</p>\n",
       "  <p>國立成功大學『人工智慧與資訊系統碩士在職專班學分班』是您成長的選擇，動動手指點進網站報名吧!!!</p>\n",
       "  <p> </p>\n",
       "  <p>【報名資格】</p>\n",
       "  <p>1. 教育部立案之國內外大學畢業<br/>\n",
       "  2. 二專及五專畢業滿3年或三專畢業滿2年<br/>\n",
       "  3. 具研究所報考資格者<br/>\n",
       "  *符合任一項資格皆可報名，不限畢業科系*</p>\n",
       "  <p> </p>\n",
       "  <p>【錄取標準】</p>\n",
       "  <p>免筆試面試，採書面審查方式，擇優錄取。</p>\n",
       "  <p> </p>\n",
       "  <p>【報名方式】</p>\n",
       "  <p>1.一律採線上報名</p>\n",
       "  <p>2.詳情見網站及簡章</p>\n",
       "  <p> </p>\n",
       "  <p>【適合對象】  </p>\n",
       "  <p>1.先修學分，未來再考取學士班或碩士班等，可攻讀更高學位</p>\n",
       "  <p>2.補修科目及學分，以取得國家考試應考資格</p>\n",
       "  <p>3.現職公務人員欲取得第二職系專長</p>\n",
       "  <p>4.工作環境需要或個人興趣想要獲取或加強該領域之專業知能</p>\n",
       "  <p> </p>\n",
       "  <p>詳細資訊以及報名表單 請參考我們的網站:</p>\n",
       "  <p>http://aigp.ncku.edu.tw/p/412-1181-25057.php?Lang=zh-tw </p>\n",
       "  </td>],\n",
       " [<td>一般資訊</td>],\n",
       " [<td>網頁行政助教 網頁助教</td>],\n",
       " [<td>1092隨班附讀.pdf</td>,\n",
       "  <td>2020-12-02</td>,\n",
       "  <td><a href=\"/ncku_csie/Attachment/Download/1604\">下載.pdf</a></td>]]"
      ]
     },
     "execution_count": 25,
     "metadata": {},
     "output_type": "execute_result"
    }
   ],
   "source": [
    "[i.find_all('td') for i in soup.find_all('tr', {'class': \"odd\"})]"
   ]
  },
  {
   "cell_type": "code",
   "execution_count": 7,
   "metadata": {},
   "outputs": [
    {
     "data": {
      "text/plain": [
       "['ASCII_SPACES',\n",
       " 'DEFAULT_BUILDER_FEATURES',\n",
       " 'NO_PARSER_SPECIFIED_WARNING',\n",
       " 'ROOT_TAG_NAME',\n",
       " '__bool__',\n",
       " '__call__',\n",
       " '__class__',\n",
       " '__contains__',\n",
       " '__copy__',\n",
       " '__delattr__',\n",
       " '__delitem__',\n",
       " '__dict__',\n",
       " '__dir__',\n",
       " '__doc__',\n",
       " '__eq__',\n",
       " '__format__',\n",
       " '__ge__',\n",
       " '__getattr__',\n",
       " '__getattribute__',\n",
       " '__getitem__',\n",
       " '__getstate__',\n",
       " '__gt__',\n",
       " '__hash__',\n",
       " '__init__',\n",
       " '__init_subclass__',\n",
       " '__iter__',\n",
       " '__le__',\n",
       " '__len__',\n",
       " '__lt__',\n",
       " '__module__',\n",
       " '__ne__',\n",
       " '__new__',\n",
       " '__reduce__',\n",
       " '__reduce_ex__',\n",
       " '__repr__',\n",
       " '__setattr__',\n",
       " '__setitem__',\n",
       " '__sizeof__',\n",
       " '__str__',\n",
       " '__subclasshook__',\n",
       " '__unicode__',\n",
       " '__weakref__',\n",
       " '_all_strings',\n",
       " '_check_markup_is_url',\n",
       " '_decode_markup',\n",
       " '_feed',\n",
       " '_find_all',\n",
       " '_find_one',\n",
       " '_is_xml',\n",
       " '_lastRecursiveChild',\n",
       " '_last_descendant',\n",
       " '_linkage_fixer',\n",
       " '_most_recent_element',\n",
       " '_namespaces',\n",
       " '_popToTag',\n",
       " '_should_pretty_print',\n",
       " 'append',\n",
       " 'attrs',\n",
       " 'builder',\n",
       " 'can_be_empty_element',\n",
       " 'cdata_list_attributes',\n",
       " 'childGenerator',\n",
       " 'children',\n",
       " 'clear',\n",
       " 'contains_replacement_characters',\n",
       " 'contents',\n",
       " 'currentTag',\n",
       " 'current_data',\n",
       " 'declared_html_encoding',\n",
       " 'decode',\n",
       " 'decode_contents',\n",
       " 'decompose',\n",
       " 'decomposed',\n",
       " 'descendants',\n",
       " 'element_classes',\n",
       " 'encode',\n",
       " 'encode_contents',\n",
       " 'endData',\n",
       " 'extend',\n",
       " 'extract',\n",
       " 'fetchNextSiblings',\n",
       " 'fetchParents',\n",
       " 'fetchPrevious',\n",
       " 'fetchPreviousSiblings',\n",
       " 'find',\n",
       " 'findAll',\n",
       " 'findAllNext',\n",
       " 'findAllPrevious',\n",
       " 'findChild',\n",
       " 'findChildren',\n",
       " 'findNext',\n",
       " 'findNextSibling',\n",
       " 'findNextSiblings',\n",
       " 'findParent',\n",
       " 'findParents',\n",
       " 'findPrevious',\n",
       " 'findPreviousSibling',\n",
       " 'findPreviousSiblings',\n",
       " 'find_all',\n",
       " 'find_all_next',\n",
       " 'find_all_previous',\n",
       " 'find_next',\n",
       " 'find_next_sibling',\n",
       " 'find_next_siblings',\n",
       " 'find_parent',\n",
       " 'find_parents',\n",
       " 'find_previous',\n",
       " 'find_previous_sibling',\n",
       " 'find_previous_siblings',\n",
       " 'format_string',\n",
       " 'formatter_for_name',\n",
       " 'get',\n",
       " 'getText',\n",
       " 'get_attribute_list',\n",
       " 'get_text',\n",
       " 'handle_data',\n",
       " 'handle_endtag',\n",
       " 'handle_starttag',\n",
       " 'has_attr',\n",
       " 'has_key',\n",
       " 'hidden',\n",
       " 'index',\n",
       " 'insert',\n",
       " 'insert_after',\n",
       " 'insert_before',\n",
       " 'isSelfClosing',\n",
       " 'is_empty_element',\n",
       " 'is_xml',\n",
       " 'known_xml',\n",
       " 'markup',\n",
       " 'name',\n",
       " 'namespace',\n",
       " 'new_string',\n",
       " 'new_tag',\n",
       " 'next',\n",
       " 'nextGenerator',\n",
       " 'nextSibling',\n",
       " 'nextSiblingGenerator',\n",
       " 'next_element',\n",
       " 'next_elements',\n",
       " 'next_sibling',\n",
       " 'next_siblings',\n",
       " 'object_was_parsed',\n",
       " 'open_tag_counter',\n",
       " 'original_encoding',\n",
       " 'parent',\n",
       " 'parentGenerator',\n",
       " 'parents',\n",
       " 'parse_only',\n",
       " 'parserClass',\n",
       " 'parser_class',\n",
       " 'popTag',\n",
       " 'prefix',\n",
       " 'preserve_whitespace_tag_stack',\n",
       " 'preserve_whitespace_tags',\n",
       " 'prettify',\n",
       " 'previous',\n",
       " 'previousGenerator',\n",
       " 'previousSibling',\n",
       " 'previousSiblingGenerator',\n",
       " 'previous_element',\n",
       " 'previous_elements',\n",
       " 'previous_sibling',\n",
       " 'previous_siblings',\n",
       " 'pushTag',\n",
       " 'recursiveChildGenerator',\n",
       " 'renderContents',\n",
       " 'replaceWith',\n",
       " 'replaceWithChildren',\n",
       " 'replace_with',\n",
       " 'replace_with_children',\n",
       " 'reset',\n",
       " 'select',\n",
       " 'select_one',\n",
       " 'setup',\n",
       " 'smooth',\n",
       " 'string',\n",
       " 'string_container',\n",
       " 'string_container_stack',\n",
       " 'strings',\n",
       " 'stripped_strings',\n",
       " 'tagStack',\n",
       " 'text',\n",
       " 'unwrap',\n",
       " 'wrap']"
      ]
     },
     "execution_count": 7,
     "metadata": {},
     "output_type": "execute_result"
    }
   ],
   "source": [
    "dir(soup)"
   ]
  },
  {
   "cell_type": "code",
   "execution_count": 8,
   "metadata": {},
   "outputs": [
    {
     "data": {
      "text/plain": [
       "[['[本校公告] 【成功大學】人工智慧與資訊系統碩士在職專班學分班(隨班附讀)'],\n",
       " [<a href=\"http://aigp.ncku.edu.tw/p/412-1181-25057.php?Lang=zh-tw \" target=\"blank\">連結</a>],\n",
       " [<p>伴隨5G、AI與大數據等數位科技快速演進，台灣產業自然不能倖免於此變局的影響，必須思考如何因應產業生態新面貌。<br/>\n",
       "  唯今之計，若能懂得善用雲端、大數據、IoT、AI機器學習等技術，勢必可以在未來產業中如魚得水。</p>,\n",
       "  '\\n',\n",
       "  <p>國立成功大學『人工智慧與資訊系統碩士在職專班學分班』是您成長的選擇，動動手指點進網站報名吧!!!</p>,\n",
       "  '\\n',\n",
       "  <p> </p>,\n",
       "  '\\n',\n",
       "  <p>【報名資格】</p>,\n",
       "  '\\n',\n",
       "  <p>1. 教育部立案之國內外大學畢業<br/>\n",
       "  2. 二專及五專畢業滿3年或三專畢業滿2年<br/>\n",
       "  3. 具研究所報考資格者<br/>\n",
       "  *符合任一項資格皆可報名，不限畢業科系*</p>,\n",
       "  '\\n',\n",
       "  <p> </p>,\n",
       "  '\\n',\n",
       "  <p>【錄取標準】</p>,\n",
       "  '\\n',\n",
       "  <p>免筆試面試，採書面審查方式，擇優錄取。</p>,\n",
       "  '\\n',\n",
       "  <p> </p>,\n",
       "  '\\n',\n",
       "  <p>【報名方式】</p>,\n",
       "  '\\n',\n",
       "  <p>1.一律採線上報名</p>,\n",
       "  '\\n',\n",
       "  <p>2.詳情見網站及簡章</p>,\n",
       "  '\\n',\n",
       "  <p> </p>,\n",
       "  '\\n',\n",
       "  <p>【適合對象】  </p>,\n",
       "  '\\n',\n",
       "  <p>1.先修學分，未來再考取學士班或碩士班等，可攻讀更高學位</p>,\n",
       "  '\\n',\n",
       "  <p>2.補修科目及學分，以取得國家考試應考資格</p>,\n",
       "  '\\n',\n",
       "  <p>3.現職公務人員欲取得第二職系專長</p>,\n",
       "  '\\n',\n",
       "  <p>4.工作環境需要或個人興趣想要獲取或加強該領域之專業知能</p>,\n",
       "  '\\n',\n",
       "  <p> </p>,\n",
       "  '\\n',\n",
       "  <p>詳細資訊以及報名表單 請參考我們的網站:</p>,\n",
       "  '\\n',\n",
       "  <p>http://aigp.ncku.edu.tw/p/412-1181-25057.php?Lang=zh-tw </p>,\n",
       "  '\\n'],\n",
       " ['一般資訊'],\n",
       " ['重要'],\n",
       " ['網頁行政助教 網頁助教'],\n",
       " ['2020-12-02 00:14:54'],\n",
       " ['1092隨班附讀.pdf'],\n",
       " ['2020-12-02'],\n",
       " [<a href=\"/ncku_csie/Attachment/Download/1604\">下載.pdf</a>]]"
      ]
     },
     "execution_count": 8,
     "metadata": {},
     "output_type": "execute_result"
    }
   ],
   "source": [
    "dir(soup.find_all('th')[-2])\n",
    "list([j for j in i.children] for i in soup.find_all('td'))"
   ]
  },
  {
   "cell_type": "code",
   "execution_count": 9,
   "metadata": {},
   "outputs": [
    {
     "data": {
      "text/plain": [
       "[{'AID': 2,\n",
       "  'Title': '空間場地管理辦法',\n",
       "  'URL': '無',\n",
       "  'Content': '國立成功大學資訊工程系空間場地管理辦法-1080222-增修通過',\n",
       "  'Type': '本系簡介 / 場地租借',\n",
       "  'Status': '一般',\n",
       "  'Author': '網頁行政助教 網頁助教',\n",
       "  'Since': '2020-12-07 23:50:40'},\n",
       " {'AID': 1,\n",
       "  'Title': '[徵才公告] AWS 2021校園招募',\n",
       "  'URL': '無',\n",
       "  'Content': '========================================\\n\\n主题：2021 AWS Cloud Support 校園招募\\n\\n校園招募時間：\\n\\n申請：實習職缺 12月-5月，正職職缺 3月-7月\\n面試：實習職缺 1月-6月，正職職缺 4月-8月\\nOffer：依據面試結果和畢業日期\\n\\n申請網址：\\nCSA正職 https://www.amazon.jobs/zh/jobs/1180587/cloud-support-associate\\nCSA實習 https://www.amazon.jobs/zh/jobs/1363624/cloud-support-intern\\n我們將會舉行一系列的推廣活動，第一場活動為綫上分享會，其餘兩場會在臺大和交大舉辦。\\n月21日綫上海外職涯分享和技術分享會的注冊方式如下歡迎同學踴躍參加：\\n\\nhttps://register.gotowebinar.com/register/3783492490285435404\\n\\n加入AWS，您將獲得的收益是\\n\\n一流的工作環境和世界級的科技水平\\n經驗豐富的管理團隊和導師來指導你的成長\\n與世界各地的合作夥伴一起工作，挑戰世界級的有趣科技難題\\n卓越的福利和員工關懷\\n\\n工作城市：臺北市\\n如有任何問題，請電郵聯繫tw-csa-recruiting@amazon.com  電郵主題：CSA2021 + Job title + Inquiry\\n附件：請查閱招募說明，和職缺JD',\n",
       "  'Type': '徵人資訊',\n",
       "  'Status': '一般',\n",
       "  'Author': '網頁行政助教 網頁助教',\n",
       "  'Since': '2020-12-09 10:27:07'}]"
      ]
     },
     "execution_count": 9,
     "metadata": {},
     "output_type": "execute_result"
    }
   ],
   "source": [
    "[{\"AID\":2,\"Title\":\"空間場地管理辦法\",\"URL\":\"無\",\"Content\":\"國立成功大學資訊工程系空間場地管理辦法-1080222-增修通過\",\"Type\":\"本系簡介 / 場地租借\",\"Status\":\"一般\",\"Author\":\"網頁行政助教 網頁助教\",\"Since\":\"2020-12-07 23:50:40\"},{\"AID\":1,\"Title\":\"[徵才公告] AWS 2021校園招募\",\"URL\":\"無\",\"Content\":\"========================================\\n\\n主题：2021 AWS Cloud Support 校園招募\\n\\n校園招募時間：\\n\\n申請：實習職缺 12月-5月，正職職缺 3月-7月\\n面試：實習職缺 1月-6月，正職職缺 4月-8月\\nOffer：依據面試結果和畢業日期\\n\\n申請網址：\\nCSA正職 https://www.amazon.jobs/zh/jobs/1180587/cloud-support-associate\\nCSA實習 https://www.amazon.jobs/zh/jobs/1363624/cloud-support-intern\\n我們將會舉行一系列的推廣活動，第一場活動為綫上分享會，其餘兩場會在臺大和交大舉辦。\\n月21日綫上海外職涯分享和技術分享會的注冊方式如下歡迎同學踴躍參加：\\n\\nhttps://register.gotowebinar.com/register/3783492490285435404\\n\\n加入AWS，您將獲得的收益是\\n\\n一流的工作環境和世界級的科技水平\\n經驗豐富的管理團隊和導師來指導你的成長\\n與世界各地的合作夥伴一起工作，挑戰世界級的有趣科技難題\\n卓越的福利和員工關懷\\n\\n工作城市：臺北市\\n如有任何問題，請電郵聯繫tw-csa-recruiting@amazon.com  電郵主題：CSA2021 + Job title + Inquiry\\n附件：請查閱招募說明，和職缺JD\",\"Type\":\"徵人資訊\",\"Status\":\"一般\",\"Author\":\"網頁行政助教 網頁助教\",\"Since\":\"2020-12-09 10:27:07\"}]\n"
   ]
  }
 ],
 "metadata": {
  "kernelspec": {
   "display_name": "Python 3",
   "language": "python",
   "name": "python3"
  },
  "language_info": {
   "codemirror_mode": {
    "name": "ipython",
    "version": 3
   },
   "file_extension": ".py",
   "mimetype": "text/x-python",
   "name": "python",
   "nbconvert_exporter": "python",
   "pygments_lexer": "ipython3",
   "version": "3.7.8"
  }
 },
 "nbformat": 4,
 "nbformat_minor": 4
}